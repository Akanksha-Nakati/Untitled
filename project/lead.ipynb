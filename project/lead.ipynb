{
 "cells": [
  {
   "cell_type": "code",
   "execution_count": 1,
   "metadata": {},
   "outputs": [
    {
     "data": {
      "text/plain": [
       "RowNumber          0\n",
       "CustomerId         0\n",
       "Surname            0\n",
       "CreditScore        0\n",
       "Geography          0\n",
       "Gender             0\n",
       "Age                0\n",
       "Tenure             0\n",
       "Balance            0\n",
       "NumOfProducts      0\n",
       "HasCrCard          0\n",
       "IsActiveMember     0\n",
       "EstimatedSalary    0\n",
       "Exited             0\n",
       "dtype: int64"
      ]
     },
     "execution_count": 1,
     "metadata": {},
     "output_type": "execute_result"
    }
   ],
   "source": [
    "import pandas as pd\n",
    "\n",
    "# Load the dataset\n",
    "file_path = '/Users/akankshanakati/Desktop/project/Churn_Modelling.csv'\n",
    "data = pd.read_csv(file_path)\n",
    "\n",
    "# Check for missing values\n",
    "missing_values = data.isnull().sum()\n",
    "missing_values\n"
   ]
  },
  {
   "cell_type": "code",
   "execution_count": 2,
   "metadata": {},
   "outputs": [
    {
     "data": {
      "text/plain": [
       "(   RowNumber  CustomerId   Surname  CreditScore Geography  Gender  Age  \\\n",
       " 0          1    15634602  Hargrave          619    France  Female   42   \n",
       " 1          2    15647311      Hill          608     Spain  Female   41   \n",
       " 2          3    15619304      Onio          502    France  Female   42   \n",
       " 3          4    15701354      Boni          699    France  Female   39   \n",
       " 4          5    15737888  Mitchell          850     Spain  Female   43   \n",
       " \n",
       "    Tenure    Balance  NumOfProducts  HasCrCard  IsActiveMember  \\\n",
       " 0       2       0.00              1          1               1   \n",
       " 1       1   83807.86              1          0               1   \n",
       " 2       8  159660.80              3          1               0   \n",
       " 3       1       0.00              2          0               0   \n",
       " 4       2  125510.82              1          1               1   \n",
       " \n",
       "    EstimatedSalary  Exited  \n",
       " 0        101348.88       1  \n",
       " 1        112542.58       0  \n",
       " 2        113931.57       1  \n",
       " 3         93826.63       0  \n",
       " 4         79084.10       0  ,\n",
       "          RowNumber    CustomerId   CreditScore           Age        Tenure  \\\n",
       " count  10000.00000  1.000000e+04  10000.000000  10000.000000  10000.000000   \n",
       " mean    5000.50000  1.569094e+07    650.528800     38.921800      5.012800   \n",
       " std     2886.89568  7.193619e+04     96.653299     10.487806      2.892174   \n",
       " min        1.00000  1.556570e+07    350.000000     18.000000      0.000000   \n",
       " 25%     2500.75000  1.562853e+07    584.000000     32.000000      3.000000   \n",
       " 50%     5000.50000  1.569074e+07    652.000000     37.000000      5.000000   \n",
       " 75%     7500.25000  1.575323e+07    718.000000     44.000000      7.000000   \n",
       " max    10000.00000  1.581569e+07    850.000000     92.000000     10.000000   \n",
       " \n",
       "              Balance  NumOfProducts    HasCrCard  IsActiveMember  \\\n",
       " count   10000.000000   10000.000000  10000.00000    10000.000000   \n",
       " mean    76485.889288       1.530200      0.70550        0.515100   \n",
       " std     62397.405202       0.581654      0.45584        0.499797   \n",
       " min         0.000000       1.000000      0.00000        0.000000   \n",
       " 25%         0.000000       1.000000      0.00000        0.000000   \n",
       " 50%     97198.540000       1.000000      1.00000        1.000000   \n",
       " 75%    127644.240000       2.000000      1.00000        1.000000   \n",
       " max    250898.090000       4.000000      1.00000        1.000000   \n",
       " \n",
       "        EstimatedSalary        Exited  \n",
       " count     10000.000000  10000.000000  \n",
       " mean     100090.239881      0.203700  \n",
       " std       57510.492818      0.402769  \n",
       " min          11.580000      0.000000  \n",
       " 25%       51002.110000      0.000000  \n",
       " 50%      100193.915000      0.000000  \n",
       " 75%      149388.247500      0.000000  \n",
       " max      199992.480000      1.000000  )"
      ]
     },
     "execution_count": 2,
     "metadata": {},
     "output_type": "execute_result"
    }
   ],
   "source": [
    "# Display the first few rows of the dataset\n",
    "data_head = data.head()\n",
    "\n",
    "# Generate summary statistics for the dataset\n",
    "summary_statistics = data.describe()\n",
    "\n",
    "data_head, summary_statistics\n"
   ]
  },
  {
   "cell_type": "code",
   "execution_count": 3,
   "metadata": {},
   "outputs": [
    {
     "data": {
      "text/html": [
       "<div>\n",
       "<style scoped>\n",
       "    .dataframe tbody tr th:only-of-type {\n",
       "        vertical-align: middle;\n",
       "    }\n",
       "\n",
       "    .dataframe tbody tr th {\n",
       "        vertical-align: top;\n",
       "    }\n",
       "\n",
       "    .dataframe thead th {\n",
       "        text-align: right;\n",
       "    }\n",
       "</style>\n",
       "<table border=\"1\" class=\"dataframe\">\n",
       "  <thead>\n",
       "    <tr style=\"text-align: right;\">\n",
       "      <th></th>\n",
       "      <th>RowNumber</th>\n",
       "      <th>CustomerId</th>\n",
       "      <th>Surname</th>\n",
       "      <th>CreditScore</th>\n",
       "      <th>Gender</th>\n",
       "      <th>Age</th>\n",
       "      <th>Tenure</th>\n",
       "      <th>Balance</th>\n",
       "      <th>NumOfProducts</th>\n",
       "      <th>HasCrCard</th>\n",
       "      <th>IsActiveMember</th>\n",
       "      <th>EstimatedSalary</th>\n",
       "      <th>Exited</th>\n",
       "      <th>Geo_France</th>\n",
       "      <th>Geo_Germany</th>\n",
       "      <th>Geo_Spain</th>\n",
       "    </tr>\n",
       "  </thead>\n",
       "  <tbody>\n",
       "    <tr>\n",
       "      <th>0</th>\n",
       "      <td>1</td>\n",
       "      <td>15634602</td>\n",
       "      <td>Hargrave</td>\n",
       "      <td>619</td>\n",
       "      <td>0</td>\n",
       "      <td>42</td>\n",
       "      <td>2</td>\n",
       "      <td>0.00</td>\n",
       "      <td>1</td>\n",
       "      <td>1</td>\n",
       "      <td>1</td>\n",
       "      <td>101348.88</td>\n",
       "      <td>1</td>\n",
       "      <td>True</td>\n",
       "      <td>False</td>\n",
       "      <td>False</td>\n",
       "    </tr>\n",
       "    <tr>\n",
       "      <th>1</th>\n",
       "      <td>2</td>\n",
       "      <td>15647311</td>\n",
       "      <td>Hill</td>\n",
       "      <td>608</td>\n",
       "      <td>0</td>\n",
       "      <td>41</td>\n",
       "      <td>1</td>\n",
       "      <td>83807.86</td>\n",
       "      <td>1</td>\n",
       "      <td>0</td>\n",
       "      <td>1</td>\n",
       "      <td>112542.58</td>\n",
       "      <td>0</td>\n",
       "      <td>False</td>\n",
       "      <td>False</td>\n",
       "      <td>True</td>\n",
       "    </tr>\n",
       "    <tr>\n",
       "      <th>2</th>\n",
       "      <td>3</td>\n",
       "      <td>15619304</td>\n",
       "      <td>Onio</td>\n",
       "      <td>502</td>\n",
       "      <td>0</td>\n",
       "      <td>42</td>\n",
       "      <td>8</td>\n",
       "      <td>159660.80</td>\n",
       "      <td>3</td>\n",
       "      <td>1</td>\n",
       "      <td>0</td>\n",
       "      <td>113931.57</td>\n",
       "      <td>1</td>\n",
       "      <td>True</td>\n",
       "      <td>False</td>\n",
       "      <td>False</td>\n",
       "    </tr>\n",
       "    <tr>\n",
       "      <th>3</th>\n",
       "      <td>4</td>\n",
       "      <td>15701354</td>\n",
       "      <td>Boni</td>\n",
       "      <td>699</td>\n",
       "      <td>0</td>\n",
       "      <td>39</td>\n",
       "      <td>1</td>\n",
       "      <td>0.00</td>\n",
       "      <td>2</td>\n",
       "      <td>0</td>\n",
       "      <td>0</td>\n",
       "      <td>93826.63</td>\n",
       "      <td>0</td>\n",
       "      <td>True</td>\n",
       "      <td>False</td>\n",
       "      <td>False</td>\n",
       "    </tr>\n",
       "    <tr>\n",
       "      <th>4</th>\n",
       "      <td>5</td>\n",
       "      <td>15737888</td>\n",
       "      <td>Mitchell</td>\n",
       "      <td>850</td>\n",
       "      <td>0</td>\n",
       "      <td>43</td>\n",
       "      <td>2</td>\n",
       "      <td>125510.82</td>\n",
       "      <td>1</td>\n",
       "      <td>1</td>\n",
       "      <td>1</td>\n",
       "      <td>79084.10</td>\n",
       "      <td>0</td>\n",
       "      <td>False</td>\n",
       "      <td>False</td>\n",
       "      <td>True</td>\n",
       "    </tr>\n",
       "  </tbody>\n",
       "</table>\n",
       "</div>"
      ],
      "text/plain": [
       "   RowNumber  CustomerId   Surname  CreditScore  Gender  Age  Tenure  \\\n",
       "0          1    15634602  Hargrave          619       0   42       2   \n",
       "1          2    15647311      Hill          608       0   41       1   \n",
       "2          3    15619304      Onio          502       0   42       8   \n",
       "3          4    15701354      Boni          699       0   39       1   \n",
       "4          5    15737888  Mitchell          850       0   43       2   \n",
       "\n",
       "     Balance  NumOfProducts  HasCrCard  IsActiveMember  EstimatedSalary  \\\n",
       "0       0.00              1          1               1        101348.88   \n",
       "1   83807.86              1          0               1        112542.58   \n",
       "2  159660.80              3          1               0        113931.57   \n",
       "3       0.00              2          0               0         93826.63   \n",
       "4  125510.82              1          1               1         79084.10   \n",
       "\n",
       "   Exited  Geo_France  Geo_Germany  Geo_Spain  \n",
       "0       1        True        False      False  \n",
       "1       0       False        False       True  \n",
       "2       1        True        False      False  \n",
       "3       0        True        False      False  \n",
       "4       0       False        False       True  "
      ]
     },
     "execution_count": 3,
     "metadata": {},
     "output_type": "execute_result"
    }
   ],
   "source": [
    "from sklearn.preprocessing import LabelEncoder, OneHotEncoder\n",
    "\n",
    "# One-hot encode 'Geography'\n",
    "geography_ohe = pd.get_dummies(data['Geography'], prefix='Geo')\n",
    "\n",
    "# Label encode 'Gender'\n",
    "label_encoder = LabelEncoder()\n",
    "gender_encoded = label_encoder.fit_transform(data['Gender'])\n",
    "data['Gender'] = gender_encoded\n",
    "\n",
    "# Concatenate the new one-hot encoded columns with the original dataframe\n",
    "data_encoded = pd.concat([data, geography_ohe], axis=1).drop('Geography', axis=1)\n",
    "\n",
    "# Show the first few rows of the updated dataframe to verify changes\n",
    "data_encoded.head()\n"
   ]
  },
  {
   "cell_type": "code",
   "execution_count": 4,
   "metadata": {},
   "outputs": [
    {
     "data": {
      "text/plain": [
       "((8000, 15), (2000, 15), (8000,), (2000,))"
      ]
     },
     "execution_count": 4,
     "metadata": {},
     "output_type": "execute_result"
    }
   ],
   "source": [
    "from sklearn.preprocessing import StandardScaler\n",
    "from sklearn.model_selection import train_test_split\n",
    "\n",
    "# Features for scaling\n",
    "features_to_scale = ['CreditScore', 'Age', 'Tenure', 'Balance', 'NumOfProducts', 'EstimatedSalary']\n",
    "\n",
    "# Applying StandardScaler\n",
    "scaler = StandardScaler()\n",
    "data_encoded[features_to_scale] = scaler.fit_transform(data_encoded[features_to_scale])\n",
    "\n",
    "# Split the data into features and target\n",
    "X = data_encoded.drop(['HasCrCard'], axis=1)  # All other columns as features\n",
    "y = data_encoded['HasCrCard']  # Target variable\n",
    "\n",
    "# Splitting the dataset into training and testing sets (80% train, 20% test)\n",
    "X_train, X_test, y_train, y_test = train_test_split(X, y, test_size=0.20, random_state=42)\n",
    "\n",
    "# Verifying the shape of the train and test sets\n",
    "X_train.shape, X_test.shape, y_train.shape, y_test.shape\n"
   ]
  },
  {
   "cell_type": "code",
   "execution_count": 6,
   "metadata": {},
   "outputs": [
    {
     "data": {
      "text/plain": [
       "(0.7135, 0.7135, 1.0, 0.5105121742118773)"
      ]
     },
     "execution_count": 6,
     "metadata": {},
     "output_type": "execute_result"
    }
   ],
   "source": [
    "from sklearn.linear_model import LogisticRegression\n",
    "from sklearn.metrics import accuracy_score, precision_score, recall_score, roc_auc_score, confusion_matrix\n",
    "# Drop non-numeric and irrelevant columns for modeling\n",
    "columns_to_drop = ['RowNumber', 'CustomerId', 'Surname']\n",
    "X_train_dropped = X_train.drop(columns=columns_to_drop, axis=1)\n",
    "X_test_dropped = X_test.drop(columns=columns_to_drop, axis=1)\n",
    "\n",
    "# Retrain the Logistic Regression model with the adjusted dataset\n",
    "logistic_model.fit(X_train_dropped, y_train)\n",
    "\n",
    "# Predict on the test set with the adjusted dataset\n",
    "y_pred_dropped = logistic_model.predict(X_test_dropped)\n",
    "\n",
    "# Calculate evaluation metrics for the adjusted model\n",
    "accuracy_dropped = accuracy_score(y_test, y_pred_dropped)\n",
    "precision_dropped = precision_score(y_test, y_pred_dropped)\n",
    "recall_dropped = recall_score(y_test, y_pred_dropped)\n",
    "roc_auc_dropped = roc_auc_score(y_test, logistic_model.predict_proba(X_test_dropped)[:, 1])\n",
    "\n",
    "accuracy_dropped, precision_dropped, recall_dropped, roc_auc_dropped\n"
   ]
  },
  {
   "cell_type": "code",
   "execution_count": 7,
   "metadata": {},
   "outputs": [
    {
     "data": {
      "text/plain": [
       "(0.7105, 0.7132796780684104, 0.9936930623686054, 0.5064695947392044)"
      ]
     },
     "execution_count": 7,
     "metadata": {},
     "output_type": "execute_result"
    }
   ],
   "source": [
    "from sklearn.ensemble import GradientBoostingClassifier\n",
    "\n",
    "# Initialize the Gradient Boosting model\n",
    "gbm_model = GradientBoostingClassifier(n_estimators=100, random_state=42)\n",
    "\n",
    "# Train the model on the training data\n",
    "gbm_model.fit(X_train_dropped, y_train)\n",
    "\n",
    "# Predict on the test set\n",
    "y_pred_gbm = gbm_model.predict(X_test_dropped)\n",
    "\n",
    "# Calculate evaluation metrics\n",
    "accuracy_gbm = accuracy_score(y_test, y_pred_gbm)\n",
    "precision_gbm = precision_score(y_test, y_pred_gbm)\n",
    "recall_gbm = recall_score(y_test, y_pred_gbm)\n",
    "roc_auc_gbm = roc_auc_score(y_test, gbm_model.predict_proba(X_test_dropped)[:, 1])\n",
    "\n",
    "accuracy_gbm, precision_gbm, recall_gbm, roc_auc_gbm\n"
   ]
  },
  {
   "cell_type": "code",
   "execution_count": 8,
   "metadata": {},
   "outputs": [
    {
     "name": "stdout",
     "output_type": "stream",
     "text": [
      "Model saved successfully.\n"
     ]
    }
   ],
   "source": [
    "from joblib import dump\n",
    "\n",
    "# Assuming 'gbm_model' is your trained Gradient Boosting Machine model\n",
    "dump(gbm_model, 'gbm_model.joblib')\n",
    "\n",
    "print(\"Model saved successfully.\")\n"
   ]
  },
  {
   "cell_type": "code",
   "execution_count": null,
   "metadata": {},
   "outputs": [],
   "source": []
  }
 ],
 "metadata": {
  "kernelspec": {
   "display_name": "Python 3",
   "language": "python",
   "name": "python3"
  },
  "language_info": {
   "codemirror_mode": {
    "name": "ipython",
    "version": 3
   },
   "file_extension": ".py",
   "mimetype": "text/x-python",
   "name": "python",
   "nbconvert_exporter": "python",
   "pygments_lexer": "ipython3",
   "version": "3.9.6"
  }
 },
 "nbformat": 4,
 "nbformat_minor": 2
}
